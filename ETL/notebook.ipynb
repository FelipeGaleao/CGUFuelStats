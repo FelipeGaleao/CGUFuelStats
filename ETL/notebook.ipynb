{
 "cells": [
  {
   "cell_type": "code",
   "execution_count": 67,
   "metadata": {},
   "outputs": [],
   "source": [
    "import dask.dataframe as dd\n",
    "import pandas as pd  \n"
   ]
  },
  {
   "cell_type": "code",
   "execution_count": 68,
   "metadata": {},
   "outputs": [
    {
     "name": "stderr",
     "output_type": "stream",
     "text": [
      "<ipython-input-68-aa9ec5aa65e6>:14: SettingWithCopyWarning: \n",
      "A value is trying to be set on a copy of a slice from a DataFrame.\n",
      "Try using .loc[row_indexer,col_indexer] = value instead\n",
      "\n",
      "See the caveats in the documentation: https://pandas.pydata.org/pandas-docs/stable/user_guide/indexing.html#returning-a-view-versus-a-copy\n",
      "  df['vehicle'] = df.Asset.str.slice(start=0, stop=5)\n",
      "<ipython-input-68-aa9ec5aa65e6>:15: SettingWithCopyWarning: \n",
      "A value is trying to be set on a copy of a slice from a DataFrame.\n",
      "Try using .loc[row_indexer,col_indexer] = value instead\n",
      "\n",
      "See the caveats in the documentation: https://pandas.pydata.org/pandas-docs/stable/user_guide/indexing.html#returning-a-view-versus-a-copy\n",
      "  df['vehicle_model'] = df.Asset.str.slice(start=7)\n",
      "<ipython-input-68-aa9ec5aa65e6>:16: SettingWithCopyWarning: \n",
      "A value is trying to be set on a copy of a slice from a DataFrame.\n",
      "Try using .loc[row_indexer,col_indexer] = value instead\n",
      "\n",
      "See the caveats in the documentation: https://pandas.pydata.org/pandas-docs/stable/user_guide/indexing.html#returning-a-view-versus-a-copy\n",
      "  df['driver_code'] = df.Driver.str.slice(start=0, stop=5)\n",
      "<ipython-input-68-aa9ec5aa65e6>:17: SettingWithCopyWarning: \n",
      "A value is trying to be set on a copy of a slice from a DataFrame.\n",
      "Try using .loc[row_indexer,col_indexer] = value instead\n",
      "\n",
      "See the caveats in the documentation: https://pandas.pydata.org/pandas-docs/stable/user_guide/indexing.html#returning-a-view-versus-a-copy\n",
      "  df['driver_name'] = df.Driver.str.slice(start=5)\n",
      "<ipython-input-68-aa9ec5aa65e6>:18: SettingWithCopyWarning: \n",
      "A value is trying to be set on a copy of a slice from a DataFrame.\n",
      "Try using .loc[row_indexer,col_indexer] = value instead\n",
      "\n",
      "See the caveats in the documentation: https://pandas.pydata.org/pandas-docs/stable/user_guide/indexing.html#returning-a-view-versus-a-copy\n",
      "  df['Date'] = pd.to_datetime(df.Date)\n"
     ]
    },
    {
     "data": {
      "text/plain": [
       "Date             datetime64[ns]\n",
       "Site Name                object\n",
       "FCM (km/L)              float64\n",
       "Distance (KM)           float64\n",
       "Fuel (Litres)           float64\n",
       "Vehicle                  object\n",
       "Vehicle_Model            object\n",
       "Driver_Code              object\n",
       "Driver_Name              object\n",
       "dtype: object"
      ]
     },
     "execution_count": 68,
     "metadata": {},
     "output_type": "execute_result"
    }
   ],
   "source": [
    "# Leitura dos Excels\n",
    "\n",
    "def read_excel_files():\n",
    "    data = os.listdir('../Data/raw')\n",
    "    df = pd.DataFrame()\n",
    "    for file in data:\n",
    "        path = '../Data/raw' + '/' + file\n",
    "        temp = pd.read_excel(path, header=0, skiprows=3)\n",
    "        df = df.append(temp, ignore_index = True)\n",
    "    return df\n",
    "\n",
    "def transform_df(df):\n",
    "    df = df[df.Date != 'Totals']\n",
    "    df['vehicle'] = df.Asset.str.slice(start=0, stop=5)\n",
    "    df['vehicle_model'] = df.Asset.str.slice(start=7)\n",
    "    df['driver_code'] = df.Driver.str.slice(start=0, stop=5)\n",
    "    df['driver_name'] = df.Driver.str.slice(start=5)\n",
    "    df['Date'] = pd.to_datetime(df.Date)\n",
    "    df = df.drop(labels = ['Unnamed: 8', 'Unnamed: 9', 'Unnamed: 10', 'Unnamed: 7'], axis=1)\n",
    "    df.columns = ['Date', 'Asset', 'Driver', 'Site Name', 'FCM (km/L)', 'Distance (KM)', 'Fuel (Litres)', 'remove', 'Vehicle', 'Vehicle_Model', 'Driver_Code', 'Driver_Name']\n",
    "    df.drop(labels = ['remove'], axis=1)\n",
    "    df = df.drop(labels = ['remove', 'Driver', 'Asset'], axis=1)\n",
    "    df['Driver_Code'] = df.Driver_Code.replace('Unkno', '-')\n",
    "    df['Driver_Name'] = df.Driver_Name.replace('wn', '-')\n",
    "    return df\n",
    "\n",
    "def save_df(df):\n",
    "    df.reset_index().drop(labels = ['index'], axis=1).to_csv('../Data/trusted/fuel_consumption.csv')\n",
    "\n",
    "df = read_excel_files()\n",
    "df = transform_df(df)\n",
    "save_df(df)\n",
    "\n",
    "# df.groupby(by= df.Vehicle)[['Distance (KM)']].sum()"
   ]
  },
  {
   "cell_type": "code",
   "execution_count": 69,
   "metadata": {},
   "outputs": [
    {
     "data": {
      "text/plain": [
       "856.096"
      ]
     },
     "execution_count": 69,
     "metadata": {},
     "output_type": "execute_result"
    }
   ],
   "source": [
    "df = pd.read_csv(\"https://raw.githubusercontent.com/FelipeGaleao/CGUFuelStats/master/Data/trusted/fuel_consumption.csv\")\n",
    "df['FCM (km/L)'].sum()"
   ]
  }
 ],
 "metadata": {
  "interpreter": {
   "hash": "80df4573815e2fbc1434c8f9d7234411ca19ec91ea5669cedcae75f03f5659be"
  },
  "kernelspec": {
   "display_name": "Python 3.8.5 64-bit ('base': conda)",
   "name": "python3"
  },
  "language_info": {
   "codemirror_mode": {
    "name": "ipython",
    "version": 3
   },
   "file_extension": ".py",
   "mimetype": "text/x-python",
   "name": "python",
   "nbconvert_exporter": "python",
   "pygments_lexer": "ipython3",
   "version": "3.8.5"
  },
  "orig_nbformat": 4
 },
 "nbformat": 4,
 "nbformat_minor": 2
}
